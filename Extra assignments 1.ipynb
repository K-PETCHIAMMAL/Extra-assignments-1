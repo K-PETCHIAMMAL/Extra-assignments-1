{
 "cells": [
  {
   "cell_type": "code",
   "execution_count": null,
   "id": "3be1205f-1bb6-48fc-968b-a37a4609d2ce",
   "metadata": {},
   "outputs": [],
   "source": [
    "#print statement"
   ]
  },
  {
   "cell_type": "code",
   "execution_count": 1,
   "id": "02ca229a-b31f-4ffb-8bc2-677bc0ef50e4",
   "metadata": {},
   "outputs": [
    {
     "name": "stdout",
     "output_type": "stream",
     "text": [
      "HOPE AI\n"
     ]
    }
   ],
   "source": [
    "print(\"HOPE AI\")"
   ]
  },
  {
   "cell_type": "code",
   "execution_count": null,
   "id": "7c17f5eb-16ff-45c4-a78b-001158eb0cef",
   "metadata": {},
   "outputs": [],
   "source": [
    "#Buy input"
   ]
  },
  {
   "cell_type": "code",
   "execution_count": 3,
   "id": "81cd6de4-9cb8-4d52-9429-dcd09219a64c",
   "metadata": {},
   "outputs": [
    {
     "name": "stdin",
     "output_type": "stream",
     "text": [
      "Enter your institute name? : HOPE AI\n"
     ]
    }
   ],
   "source": [
    "Name=input(\"Enter your institute name? :\")"
   ]
  },
  {
   "cell_type": "code",
   "execution_count": null,
   "id": "4a7331e2-2fb8-4a47-aaa1-b468672a2ef7",
   "metadata": {},
   "outputs": [],
   "source": [
    "#Buy inputs"
   ]
  },
  {
   "cell_type": "code",
   "execution_count": 9,
   "id": "bfaf111d-e802-4871-8daa-d692e94be82e",
   "metadata": {},
   "outputs": [
    {
     "name": "stdin",
     "output_type": "stream",
     "text": [
      "Enter your name: Raj\n",
      "Enter your age: 15\n",
      "Enter your school name: Guru school\n",
      "Enter your degree: B.E CSE\n"
     ]
    }
   ],
   "source": [
    "Name=input(\"Enter your name:\")\n",
    "age=int(input(\"Enter your age:\"))\n",
    "School=input(\"Enter your school name:\")\n",
    "Degree=input(\"Enter your degree:\")"
   ]
  },
  {
   "cell_type": "code",
   "execution_count": null,
   "id": "71182284-2439-457d-a4f6-38635e47bfd5",
   "metadata": {},
   "outputs": [],
   "source": [
    "#Addition"
   ]
  },
  {
   "cell_type": "code",
   "execution_count": 6,
   "id": "cddc1193-28bb-4bd8-a83b-1bde7645fd37",
   "metadata": {},
   "outputs": [
    {
     "name": "stdin",
     "output_type": "stream",
     "text": [
      "a=  43\n",
      "b=  34\n"
     ]
    },
    {
     "name": "stdout",
     "output_type": "stream",
     "text": [
      "add= 77\n"
     ]
    }
   ],
   "source": [
    "num1=int(input(\"a= \"))\n",
    "num2=int(input(\"b= \"))\n",
    "add=num1+num2\n",
    "print(\"add=\" ,add)"
   ]
  },
  {
   "cell_type": "code",
   "execution_count": null,
   "id": "a92ded2a-602d-4f81-953e-2eaef40ace40",
   "metadata": {},
   "outputs": [],
   "source": [
    "#Subtraction"
   ]
  },
  {
   "cell_type": "code",
   "execution_count": 8,
   "id": "c89b02c8-a5b8-46bf-94d5-7aaa82eae504",
   "metadata": {},
   "outputs": [
    {
     "name": "stdin",
     "output_type": "stream",
     "text": [
      "a=  43\n",
      "b=  34\n"
     ]
    },
    {
     "name": "stdout",
     "output_type": "stream",
     "text": [
      "Sub =  9\n"
     ]
    }
   ],
   "source": [
    "num1=int(input(\"a= \"))\n",
    "num2=int(input(\"b= \"))\n",
    "sub=num1-num2\n",
    "print(\"Sub = \",sub)"
   ]
  },
  {
   "cell_type": "code",
   "execution_count": null,
   "id": "efc15cf7-e8b3-4d18-b8fb-eb0e87f72293",
   "metadata": {},
   "outputs": [],
   "source": [
    "#Multiplication"
   ]
  },
  {
   "cell_type": "code",
   "execution_count": 12,
   "id": "522725ca-95cc-45c8-9e5f-7c2e3bdc4f10",
   "metadata": {},
   "outputs": [
    {
     "name": "stdin",
     "output_type": "stream",
     "text": [
      "a=  63\n",
      "b=  97\n"
     ]
    },
    {
     "name": "stdout",
     "output_type": "stream",
     "text": [
      "Mul=  6111\n"
     ]
    }
   ],
   "source": [
    "num1=int(input(\"a= \"))\n",
    "num2=int(input(\"b= \"))\n",
    "Mul=num1*num2\n",
    "print(\"Mul= \",Mul)"
   ]
  },
  {
   "cell_type": "code",
   "execution_count": null,
   "id": "9c73ddcb-5a56-439e-a1ee-20edc77dfa39",
   "metadata": {},
   "outputs": [],
   "source": [
    "#Division"
   ]
  },
  {
   "cell_type": "code",
   "execution_count": 14,
   "id": "06beea01-8059-4dc9-bc91-d220cd16be36",
   "metadata": {},
   "outputs": [
    {
     "name": "stdin",
     "output_type": "stream",
     "text": [
      "a=  76\n",
      "b=  31\n"
     ]
    },
    {
     "name": "stdout",
     "output_type": "stream",
     "text": [
      "Float Div = 2.4516129032258065\n"
     ]
    }
   ],
   "source": [
    "num1=int(input(\"a= \"))\n",
    "num2=int(input(\"b= \"))\n",
    "float=num1/num2\n",
    "print(\"Float Div =\",float)"
   ]
  },
  {
   "cell_type": "code",
   "execution_count": null,
   "id": "c381ad3e-9039-403f-9d73-4ce1a673f0e0",
   "metadata": {},
   "outputs": [],
   "source": [
    "#Floor division"
   ]
  },
  {
   "cell_type": "code",
   "execution_count": 18,
   "id": "5ebed317-cb29-44f1-9b1c-5571daa7a6f7",
   "metadata": {},
   "outputs": [
    {
     "name": "stdin",
     "output_type": "stream",
     "text": [
      "a=  76\n",
      "b=  31\n"
     ]
    },
    {
     "name": "stdout",
     "output_type": "stream",
     "text": [
      "Floor Div =  2\n"
     ]
    }
   ],
   "source": [
    "num1=int(input(\"a= \"))\n",
    "num2=int(input(\"b= \"))\n",
    "Fd=num1//num2\n",
    "print(\"Floor Div = \",Fd)"
   ]
  },
  {
   "cell_type": "code",
   "execution_count": null,
   "id": "5a8db3a4-2b70-4315-b3c7-8c5eed16dfb2",
   "metadata": {},
   "outputs": [],
   "source": [
    "#Modulo"
   ]
  },
  {
   "cell_type": "code",
   "execution_count": 22,
   "id": "ba0ccf78-e774-4008-b89b-136383327f02",
   "metadata": {},
   "outputs": [
    {
     "name": "stdin",
     "output_type": "stream",
     "text": [
      "a=  76\n",
      "b=  31\n"
     ]
    },
    {
     "name": "stdout",
     "output_type": "stream",
     "text": [
      "Modulo=  14\n"
     ]
    }
   ],
   "source": [
    "num1=int(input(\"a= \"))\n",
    "num2=int(input(\"b= \"))\n",
    "Mod=num1%num2\n",
    "print(\"Modulo= \",Mod)"
   ]
  },
  {
   "cell_type": "code",
   "execution_count": null,
   "id": "0355203e-cae7-4f00-bbcb-5b3546f5bfe1",
   "metadata": {},
   "outputs": [],
   "source": [
    "#Power"
   ]
  },
  {
   "cell_type": "code",
   "execution_count": 34,
   "id": "e7751e56-a454-4bfb-9b3c-60dc47f0fb80",
   "metadata": {},
   "outputs": [
    {
     "name": "stdin",
     "output_type": "stream",
     "text": [
      "a=  4\n",
      "b=  4\n"
     ]
    },
    {
     "name": "stdout",
     "output_type": "stream",
     "text": [
      "Power=  256\n"
     ]
    }
   ],
   "source": [
    "num1=int(input(\"a= \"))\n",
    "num2=int(input(\"b= \"))\n",
    "power=4**4\n",
    "print(\"Power= \",power)"
   ]
  },
  {
   "cell_type": "code",
   "execution_count": null,
   "id": "5439a8d7-b2bc-433d-b458-992e5ecafa04",
   "metadata": {},
   "outputs": [],
   "source": []
  }
 ],
 "metadata": {
  "kernelspec": {
   "display_name": "Python 3 (ipykernel)",
   "language": "python",
   "name": "python3"
  },
  "language_info": {
   "codemirror_mode": {
    "name": "ipython",
    "version": 3
   },
   "file_extension": ".py",
   "mimetype": "text/x-python",
   "name": "python",
   "nbconvert_exporter": "python",
   "pygments_lexer": "ipython3",
   "version": "3.12.7"
  }
 },
 "nbformat": 4,
 "nbformat_minor": 5
}
